{
  "cells": [
    {
      "cell_type": "code",
      "source": [
        "#%pip install sportsreference\n",
        "#%pip install sportsipy"
      ],
      "metadata": {
        "id": "DMamqtXWjBln"
      },
      "id": "DMamqtXWjBln",
      "execution_count": 22,
      "outputs": []
    },
    {
      "cell_type": "code",
      "execution_count": 37,
      "id": "70b8a498",
      "metadata": {
        "id": "70b8a498"
      },
      "outputs": [],
      "source": [
        "import sportsreference # pip install sportsreference\n",
        "import sportsipy       # pip install sportsipy\n",
        "import pandas as pd"
      ]
    },
    {
      "cell_type": "markdown",
      "id": "6adce5e3",
      "metadata": {
        "id": "6adce5e3"
      },
      "source": [
        "In this notebook we're going to familiarize ourselves with some of the functionality of the dataset packages we'll be using to perform analysis. \n",
        "\n",
        "Here are the documentation sources you should use to complete these tasks:\n",
        "\n",
        "\n",
        "General Documentation: https://sportsipy.readthedocs.io/en/latest/\n",
        "\n",
        "Game/League-Specific Documentation: https://github.com/roclark/sportsipy/tree/master/docs (just click on the relavent game)\n",
        "\n",
        "\n",
        "NCAA Men's Basketball (very useful for this): https://github.com/roclark/sportsipy/blob/master/docs/ncaab.rst\n"
      ]
    },
    {
      "cell_type": "code",
      "execution_count": 4,
      "id": "a4945b9d",
      "metadata": {
        "colab": {
          "base_uri": "https://localhost:8080/"
        },
        "id": "a4945b9d",
        "outputId": "d76ae6ae-7936-44a1-bc20-216a92b030bd"
      },
      "outputs": [
        {
          "output_type": "stream",
          "name": "stdout",
          "text": [
            "Tue, Nov 9, 2021 | Jackson State\n",
            "Win | 71 to 47\n",
            "\n",
            "Fri, Nov 12, 2021 | Arkansas State\n",
            "Win | 92 to 53\n",
            "\n",
            "Mon, Nov 15, 2021 | Marquette\n",
            "Loss | 66 to 67\n",
            "\n",
            "Mon, Nov 22, 2021 | Cincinnati\n",
            "Loss | 51 to 71\n",
            "\n",
            "Tue, Nov 23, 2021 | Kansas State\n",
            "Win | 72 to 64\n",
            "\n",
            "Fri, Nov 26, 2021 | Texas-Rio Grande Valley\n",
            "Win | 94 to 85\n",
            "\n",
            "Mon, Nov 29, 2021 | Notre Dame\n",
            "Win | 82 to 72\n",
            "\n",
            "Fri, Dec 3, 2021 | Rutgers\n",
            "Win | 86 to 51\n",
            "\n",
            "Mon, Dec 6, 2021 | Iowa\n",
            "Win | 87 to 83\n",
            "\n",
            "Sat, Dec 11, 2021 | Arizona\n",
            "Loss | 79 to 83\n",
            "\n",
            "Sat, Dec 18, 2021 | Saint Francis (PA)\n",
            "Win | 106 to 48\n",
            "\n",
            "Wed, Dec 22, 2021 | Missouri\n",
            "Win | 88 to 63\n",
            "\n",
            "Tue, Jan 4, 2022 | Minnesota\n",
            "Win | 76 to 53\n",
            "\n",
            "Thu, Jan 6, 2022 | Maryland\n",
            "Win | 76 to 64\n",
            "\n",
            "Tue, Jan 11, 2022 | Nebraska\n",
            "Win | 81 to 71\n",
            "\n",
            "Fri, Jan 14, 2022 | Michigan\n",
            "Win | 68 to 53\n",
            "\n",
            "Mon, Jan 17, 2022 | Purdue\n",
            "Loss | 88 to 96\n",
            "\n",
            "Fri, Jan 21, 2022 | Maryland\n",
            "Loss | 65 to 81\n",
            "\n",
            "Tue, Jan 25, 2022 | Michigan State\n",
            "Win | 56 to 55\n",
            "\n",
            "Sat, Jan 29, 2022 | Northwestern\n",
            "Win | 59 to 56\n",
            "\n",
            "Wed, Feb 2, 2022 | Wisconsin\n",
            "Win | 80 to 67\n",
            "\n",
            "Sat, Feb 5, 2022 | Indiana\n",
            "Win | 74 to 57\n",
            "\n",
            "Tue, Feb 8, 2022 | Purdue\n",
            "Loss | 68 to 84\n",
            "\n",
            "Sun, Feb 13, 2022 | Northwestern\n",
            "Win | 73 to 66\n",
            "\n",
            "Wed, Feb 16, 2022 | Rutgers\n",
            "Loss | 59 to 70\n",
            "\n",
            "Sat, Feb 19, 2022 | Michigan State\n",
            "Win | 79 to 74\n",
            "\n",
            "Thu, Feb 24, 2022 | Ohio State\n",
            "Loss | 83 to 86\n",
            "\n",
            "Sun, Feb 27, 2022 | Michigan\n",
            "Win | 93 to 85\n",
            "\n",
            "Thu, Mar 3, 2022 | Penn State\n",
            "Win | 60 to 55\n",
            "\n",
            "Sun, Mar 6, 2022 | Iowa\n",
            "Win | 74 to 72\n",
            "\n",
            "Fri, Mar 11, 2022 | Indiana\n",
            "Loss | 63 to 65\n",
            "\n",
            "Fri, Mar 18, 2022 | Chattanooga\n",
            "Win | 54 to 53\n",
            "\n",
            "Sun, Mar 20, 2022 | Houston\n",
            "Loss | 53 to 68\n",
            "\n"
          ]
        }
      ],
      "source": [
        "# Task 1:\n",
        "# Print Illinois' NCAA Men's Basketball Schedule\n",
        "from sportsipy.ncaab.schedule import Schedule\n",
        "\n",
        "illinois_schedule = Schedule(\"illinois\")\n",
        "for game in illinois_schedule:\n",
        "    print(game.date + \" | \" + game.opponent_name)\n",
        "    print(game.result + \" | \" + str(game.points_for) + \" to \" + str(game.points_against) + \"\\n\")"
      ]
    },
    {
      "cell_type": "code",
      "execution_count": 25,
      "id": "e87fb35a",
      "metadata": {
        "scrolled": true,
        "colab": {
          "base_uri": "https://localhost:8080/"
        },
        "id": "e87fb35a",
        "outputId": "ba363c3c-0fb6-4eb1-b726-71d8629b8ff0"
      },
      "outputs": [
        {
          "output_type": "stream",
          "name": "stdout",
          "text": [
            "{'4-1-2022': [{'boxscore': '2022-04-01-18-coastal-carolina', 'away_name': 'Fresno State', 'away_abbr': 'fresno-state', 'away_score': 85, 'away_rank': None, 'home_name': 'Coastal Carolina', 'home_abbr': 'coastal-carolina', 'home_score': 74, 'home_rank': None, 'non_di': False, 'top_25': False, 'winning_name': 'Fresno State', 'winning_abbr': 'fresno-state', 'losing_name': 'Coastal Carolina', 'losing_abbr': 'coastal-carolina'}], '4-2-2022': [{'boxscore': '2022-04-02-18-kansas', 'away_name': 'Villanova', 'away_abbr': 'villanova', 'away_score': 65, 'away_rank': 2, 'home_name': 'Kansas', 'home_abbr': 'kansas', 'home_score': 81, 'home_rank': 1, 'non_di': False, 'top_25': True, 'winning_name': 'Kansas', 'winning_abbr': 'kansas', 'losing_name': 'Villanova', 'losing_abbr': 'villanova'}, {'boxscore': '2022-04-02-20-duke', 'away_name': 'UNC', 'away_abbr': 'north-carolina', 'away_score': 81, 'away_rank': 8, 'home_name': 'Duke', 'home_abbr': 'duke', 'home_score': 77, 'home_rank': 2, 'non_di': False, 'top_25': True, 'winning_name': 'UNC', 'winning_abbr': 'north-carolina', 'losing_name': 'Duke', 'losing_abbr': 'duke'}], '4-3-2022': [], '4-4-2022': [{'boxscore': '2022-04-04-21-kansas', 'away_name': 'UNC', 'away_abbr': 'north-carolina', 'away_score': 69, 'away_rank': 8, 'home_name': 'Kansas', 'home_abbr': 'kansas', 'home_score': 72, 'home_rank': 1, 'non_di': False, 'top_25': True, 'winning_name': 'Kansas', 'winning_abbr': 'kansas', 'losing_name': 'UNC', 'losing_abbr': 'north-carolina'}], '4-5-2022': [], '4-6-2022': [], '4-7-2022': [], '4-8-2022': []}\n"
          ]
        }
      ],
      "source": [
        "# Task 2:\n",
        "# How many games were played between April 1 and 8th 2022?\n",
        "from datetime import datetime\n",
        "from sportsipy.ncaab.boxscore import Boxscores\n",
        "\n",
        "games = Boxscores(datetime(2022, 4, 1), datetime(2022, 4, 8))\n",
        "print(games.games)\n",
        "\n",
        "# TODO count number of games played"
      ]
    },
    {
      "cell_type": "code",
      "execution_count": 16,
      "id": "10b31a10",
      "metadata": {
        "colab": {
          "base_uri": "https://localhost:8080/"
        },
        "id": "10b31a10",
        "outputId": "f41fc5d2-e0e7-4d94-d7fb-3d3df0031e1f"
      },
      "outputs": [
        {
          "output_type": "stream",
          "name": "stdout",
          "text": [
            "Kofi Cockburn - 111 Block(s)\n",
            "Alfonso Plummer - 2 Block(s)\n",
            "Trent Frazier - 10 Block(s)\n",
            "Jacob Grandison - 23 Block(s)\n",
            "Coleman Hawkins - 26 Block(s)\n",
            "Andre Curbelo - 5 Block(s)\n",
            "Da'Monte Williams - 44 Block(s)\n",
            "RJ Melendez - 3 Block(s)\n",
            "Omar Payne - 87 Block(s)\n",
            "Luke Goode - 4 Block(s)\n",
            "Benjamin Bosmans-Verdonk - 2 Block(s)\n",
            "Brandin Podziemski - 0 Block(s)\n",
            "Austin Hutcherson - 1 Block(s)\n",
            "Brandon Lieb - 2 Block(s)\n",
            "Connor Serven - 0 Block(s)\n"
          ]
        }
      ],
      "source": [
        "# Task 3: \n",
        "# Which Illinois Player has the most blocks this year?\n",
        "from sportsipy.ncaab.roster import Player\n",
        "from sportsipy.ncaab.roster import Roster\n",
        "\n",
        "illinois_roster = Roster(\"illinois\")\n",
        "for player in illinois_roster.players:\n",
        "    print(player.name + \" - \" + str(player(\"21-22\").blocks) + \" Block(s)\")\n"
      ]
    },
    {
      "cell_type": "code",
      "execution_count": 14,
      "id": "5f0a1285",
      "metadata": {
        "colab": {
          "base_uri": "https://localhost:8080/"
        },
        "id": "5f0a1285",
        "outputId": "bf10855e-e0a2-402f-ddfc-aeebb22efdca"
      },
      "outputs": [
        {
          "output_type": "stream",
          "name": "stdout",
          "text": [
            "Kofi Cockburn - 17.2 PPG\n",
            "Alfonso Plummer - 12.4 PPG\n",
            "Trent Frazier - 11.4 PPG\n",
            "Jacob Grandison - 9.4 PPG\n",
            "Coleman Hawkins - 4.0 PPG\n",
            "Andre Curbelo - 8.5 PPG\n",
            "Da'Monte Williams - 3.8 PPG\n",
            "RJ Melendez - 3.8 PPG\n",
            "Omar Payne - 3.0 PPG\n",
            "Luke Goode - 2.0 PPG\n",
            "Benjamin Bosmans-Verdonk - 1.3 PPG\n",
            "Brandin Podziemski - 1.4 PPG\n",
            "Austin Hutcherson - 2.8 PPG\n",
            "Brandon Lieb - 0.8 PPG\n",
            "Connor Serven - 0.2 PPG\n"
          ]
        }
      ],
      "source": [
        "# Task 4: \n",
        "# Which Illinois Player has the most points per game?\n",
        "from sportsipy.ncaab.roster import Player\n",
        "from sportsipy.ncaab.roster import Roster\n",
        "\n",
        "illinois_roster = Roster('illinois')\n",
        "for player in illinois_roster.players:\n",
        "    points_per_game = player.points / player.games_played\n",
        "    print(player.name + \" - \" + str(round(points_per_game, 1)) + \" PPG\")"
      ]
    },
    {
      "cell_type": "code",
      "execution_count": 10,
      "id": "48689ce6",
      "metadata": {
        "colab": {
          "base_uri": "https://localhost:8080/"
        },
        "id": "48689ce6",
        "outputId": "2256ecbc-5d71-4c30-e2a1-8e2c4664418c"
      },
      "outputs": [
        {
          "output_type": "stream",
          "name": "stdout",
          "text": [
            "Sun, Mar 20, 2022\n",
            "Houston - Loss\n"
          ]
        }
      ],
      "source": [
        "# Who did Illinois play last?\n",
        "from sportsipy.ncaab.schedule import Schedule\n",
        "\n",
        "illinois_last_game = Schedule('illinois')[-1]\n",
        "print(illinois_last_game.date)\n",
        "print(illinois_last_game.opponent_name + \" - \" + illinois_last_game.result)"
      ]
    },
    {
      "cell_type": "code",
      "execution_count": 42,
      "id": "a95d6fdc",
      "metadata": {
        "colab": {
          "base_uri": "https://localhost:8080/"
        },
        "id": "a95d6fdc",
        "outputId": "5ef68665-47cd-46b3-c93a-57f66558a332"
      },
      "outputs": [
        {
          "output_type": "execute_result",
          "data": {
            "text/plain": [
              "{'boxscore': '2022-03-20-12-illinois',\n",
              " 'away_name': 'Houston',\n",
              " 'away_abbr': 'houston',\n",
              " 'away_score': 68,\n",
              " 'away_rank': 5,\n",
              " 'home_name': 'Illinois',\n",
              " 'home_abbr': 'illinois',\n",
              " 'home_score': 53,\n",
              " 'home_rank': 4,\n",
              " 'non_di': False,\n",
              " 'top_25': True,\n",
              " 'winning_name': 'Houston',\n",
              " 'winning_abbr': 'houston',\n",
              " 'losing_name': 'Illinois',\n",
              " 'losing_abbr': 'illinois'}"
            ]
          },
          "metadata": {},
          "execution_count": 42
        }
      ],
      "source": [
        "# Get the BoxScore data for this specific game\n",
        "from sportsipy.ncaab.boxscore import Boxscore\n",
        "from sportsipy.ncaab.schedule import Schedule\n",
        "\n",
        "games = Boxscores(datetime(2022, 3, 20))\n",
        "last_game_data = games.games['3-20-2022'][7]\n",
        "last_game_data\n"
      ]
    },
    {
      "cell_type": "code",
      "execution_count": null,
      "id": "f5e02691",
      "metadata": {
        "id": "f5e02691"
      },
      "outputs": [],
      "source": []
    },
    {
      "cell_type": "code",
      "execution_count": null,
      "id": "8beaa7e5",
      "metadata": {
        "id": "8beaa7e5"
      },
      "outputs": [],
      "source": []
    }
  ],
  "metadata": {
    "kernelspec": {
      "display_name": "Python 3 (ipykernel)",
      "language": "python",
      "name": "python3"
    },
    "language_info": {
      "codemirror_mode": {
        "name": "ipython",
        "version": 3
      },
      "file_extension": ".py",
      "mimetype": "text/x-python",
      "name": "python",
      "nbconvert_exporter": "python",
      "pygments_lexer": "ipython3",
      "version": "3.9.12"
    },
    "vscode": {
      "interpreter": {
        "hash": "aee8b7b246df8f9039afb4144a1f6fd8d2ca17a180786b69acc140d282b71a49"
      }
    },
    "colab": {
      "provenance": [],
      "collapsed_sections": []
    }
  },
  "nbformat": 4,
  "nbformat_minor": 5
}